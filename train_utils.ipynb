{
 "cells": [
  {
   "cell_type": "code",
   "execution_count": null,
   "id": "9936b95d-5790-484a-9c62-58c0fa357f14",
   "metadata": {},
   "outputs": [],
   "source": [
    "import boto3\n",
    "from botocore.exceptions import NoCredentialsError\n",
    "\n",
    "# AWS 접속 설정\n",
    "BUCKET_NAME = 'clean-sfx-audios'\n",
    "\n",
    "region_name = 'us-west-2'  # Replace with your desired AWS region\n",
    "# Create a session\n",
    "session = boto3.Session(\n",
    "    aws_access_key_id=ACCESS_KEY,\n",
    "    aws_secret_access_key=SECRET_KEY,\n",
    "    region_name=region_name\n",
    ")\n",
    "# Create an S3 client\n",
    "s3 = session.resource(\"s3\")\n",
    "s3_client=session.client(\"s3\")\n",
    "s3_client.download_file(BUCKET_NAME, \"pond5/total_total_csv.csv\", \"total_total_csv.csv\")"
   ]
  },
  {
   "cell_type": "code",
   "execution_count": null,
   "id": "a02d00e2-2dbd-47cd-a2f6-b945d10ed9b7",
   "metadata": {},
   "outputs": [],
   "source": [
    "#setup aws s3\n",
    "#authorize for boto3\n",
    "#optimizer ai account\n",
    "import boto3\n",
    "region_name = 'us-west-2'  # Replace with your desired AWS region\n",
    "# AWS 접속 설정\n",
    "BUCKET_NAME = 'clean-sfx-audios'\n",
    "\n",
    "# Create a session\n",
    "session = boto3.Session(\n",
    "    aws_access_key_id=ACCESS_KEY,\n",
    "    aws_secret_access_key=SECRET_KEY,\n",
    "    region_name=region_name\n",
    ")\n",
    "# Create an S3 client\n",
    "s3 = boto3.client('s3', aws_access_key_id=ACCESS_KEY, aws_secret_access_key=SECRET_KEY)\n",
    "\n",
    "def upload_file_to_s3(upload):\n",
    "    try:\n",
    "        response = s3.upload_file(upload['upload_file'], 'clean-sfx-audios', upload['upload_path'])\n",
    "    except NoCredentialsError:\n",
    "        print(\"Credentials not available\")\n",
    "    except Exception as e:\n",
    "        print(f\"An error occurred: {e}\")"
   ]
  },
  {
   "cell_type": "code",
   "execution_count": null,
   "id": "f8ab7b92-723b-4587-ab21-9c016ed96a96",
   "metadata": {},
   "outputs": [],
   "source": [
    "response = s3.upload_file(\"total_0403.csv\", 'clean-sfx-audios', \"pond/updated_filtered_csv_0403.csv\")"
   ]
  },
  {
   "cell_type": "code",
   "execution_count": null,
   "id": "d966f32d-33f4-4cc8-80ad-aa28256b65a1",
   "metadata": {},
   "outputs": [],
   "source": [
    "import pandas as pd\n",
    "from multiprocessing import Pool\n",
    "from tqdm import tqdm\n",
    "\n",
    "additional_total = pd.read_csv(\"additional_total.csv\")\n",
    "\n",
    "uploads = []\n",
    "for i in tqdm(range(len(additional_total))):\n",
    "    data = additional_total.iloc[i]\n",
    "    if data['folder'] in ['data18','data19','data20']:\n",
    "        upload_file = data['folder'] + \"/\" + data['download_id']+\".wav\"\n",
    "        upload_path = \"pond/pond_7/\"+data['download_id']+\".wav\"\n",
    "        uploads.append({\n",
    "            \"upload_file\": upload_file,\n",
    "            \"upload_path\": upload_path\n",
    "        })\n",
    "        \n",
    "        if len(uploads) == 384:\n",
    "            with Pool(384) as p:\n",
    "                p.map(upload_file_to_s3, uploads)\n",
    "                uploads = []"
   ]
  },
  {
   "cell_type": "code",
   "execution_count": null,
   "id": "ae880397-caa8-4d9c-8309-8e2146de0240",
   "metadata": {},
   "outputs": [],
   "source": []
  },
  {
   "cell_type": "code",
   "execution_count": 1,
   "id": "f54e50e7-2d5f-4f0b-ae55-83790f811941",
   "metadata": {},
   "outputs": [
    {
     "data": {
      "application/vnd.jupyter.widget-view+json": {
       "model_id": "3064b794f823401ebd4d695102b12ce4",
       "version_major": 2,
       "version_minor": 0
      },
      "text/plain": [
       "README.md:   0%|          | 0.00/4.07k [00:00<?, ?B/s]"
      ]
     },
     "metadata": {},
     "output_type": "display_data"
    },
    {
     "data": {
      "application/vnd.jupyter.widget-view+json": {
       "model_id": "3345fab1d9bf4116a0fbeeaa97bea6ea",
       "version_major": 2,
       "version_minor": 0
      },
      "text/plain": [
       "train-00000-of-00012.parquet:   0%|          | 0.00/473M [00:00<?, ?B/s]"
      ]
     },
     "metadata": {},
     "output_type": "display_data"
    },
    {
     "data": {
      "application/vnd.jupyter.widget-view+json": {
       "model_id": "272183b2db4747bca9dccbb1eb6c63f2",
       "version_major": 2,
       "version_minor": 0
      },
      "text/plain": [
       "train-00001-of-00012.parquet:   0%|          | 0.00/582M [00:00<?, ?B/s]"
      ]
     },
     "metadata": {},
     "output_type": "display_data"
    },
    {
     "data": {
      "application/vnd.jupyter.widget-view+json": {
       "model_id": "faaa055312514a8ead2d04d6d7086b6e",
       "version_major": 2,
       "version_minor": 0
      },
      "text/plain": [
       "train-00002-of-00012.parquet:   0%|          | 0.00/505M [00:00<?, ?B/s]"
      ]
     },
     "metadata": {},
     "output_type": "display_data"
    },
    {
     "data": {
      "application/vnd.jupyter.widget-view+json": {
       "model_id": "0d9ce2c3bbdc472aa0418042b9634c35",
       "version_major": 2,
       "version_minor": 0
      },
      "text/plain": [
       "train-00003-of-00012.parquet:   0%|          | 0.00/466M [00:00<?, ?B/s]"
      ]
     },
     "metadata": {},
     "output_type": "display_data"
    },
    {
     "data": {
      "application/vnd.jupyter.widget-view+json": {
       "model_id": "7f50d62db244448681bdcbc131b6768c",
       "version_major": 2,
       "version_minor": 0
      },
      "text/plain": [
       "train-00004-of-00012.parquet:   0%|          | 0.00/522M [00:00<?, ?B/s]"
      ]
     },
     "metadata": {},
     "output_type": "display_data"
    },
    {
     "data": {
      "application/vnd.jupyter.widget-view+json": {
       "model_id": "1a8f0928a4b84194ad9a07420606499b",
       "version_major": 2,
       "version_minor": 0
      },
      "text/plain": [
       "train-00005-of-00012.parquet:   0%|          | 0.00/473M [00:00<?, ?B/s]"
      ]
     },
     "metadata": {},
     "output_type": "display_data"
    },
    {
     "data": {
      "application/vnd.jupyter.widget-view+json": {
       "model_id": "dc70854ae4844702bc5f86aabfc56ab8",
       "version_major": 2,
       "version_minor": 0
      },
      "text/plain": [
       "train-00006-of-00012.parquet:   0%|          | 0.00/406M [00:00<?, ?B/s]"
      ]
     },
     "metadata": {},
     "output_type": "display_data"
    },
    {
     "data": {
      "application/vnd.jupyter.widget-view+json": {
       "model_id": "9cf63fd2440f42858f22ddee01f51160",
       "version_major": 2,
       "version_minor": 0
      },
      "text/plain": [
       "train-00007-of-00012.parquet:   0%|          | 0.00/494M [00:00<?, ?B/s]"
      ]
     },
     "metadata": {},
     "output_type": "display_data"
    },
    {
     "data": {
      "application/vnd.jupyter.widget-view+json": {
       "model_id": "3bd82c5df3f54cbe9ceb5508588fdecd",
       "version_major": 2,
       "version_minor": 0
      },
      "text/plain": [
       "train-00008-of-00012.parquet:   0%|          | 0.00/449M [00:00<?, ?B/s]"
      ]
     },
     "metadata": {},
     "output_type": "display_data"
    },
    {
     "data": {
      "application/vnd.jupyter.widget-view+json": {
       "model_id": "131eb4bae7ee4d06814483a299ac3034",
       "version_major": 2,
       "version_minor": 0
      },
      "text/plain": [
       "train-00009-of-00012.parquet:   0%|          | 0.00/428M [00:00<?, ?B/s]"
      ]
     },
     "metadata": {},
     "output_type": "display_data"
    },
    {
     "data": {
      "application/vnd.jupyter.widget-view+json": {
       "model_id": "3eb9b287f71a4f52a8e2575d15eb17db",
       "version_major": 2,
       "version_minor": 0
      },
      "text/plain": [
       "train-00010-of-00012.parquet:   0%|          | 0.00/513M [00:00<?, ?B/s]"
      ]
     },
     "metadata": {},
     "output_type": "display_data"
    },
    {
     "data": {
      "application/vnd.jupyter.widget-view+json": {
       "model_id": "858872a13b0d418da49dd0ca107171bc",
       "version_major": 2,
       "version_minor": 0
      },
      "text/plain": [
       "train-00011-of-00012.parquet:   0%|          | 0.00/450M [00:00<?, ?B/s]"
      ]
     },
     "metadata": {},
     "output_type": "display_data"
    },
    {
     "data": {
      "application/vnd.jupyter.widget-view+json": {
       "model_id": "951801165213496b8b1c5d230ec85bde",
       "version_major": 2,
       "version_minor": 0
      },
      "text/plain": [
       "Generating train split:   0%|          | 0/11615 [00:00<?, ? examples/s]"
      ]
     },
     "metadata": {},
     "output_type": "display_data"
    },
    {
     "name": "stderr",
     "output_type": "stream",
     "text": [
      "100%|██████████| 11615/11615 [00:29<00:00, 391.30it/s]\n"
     ]
    }
   ],
   "source": [
    "from datasets import load_dataset\n",
    "\n",
    "ds = load_dataset(\"ylacombe/expresso\")\n",
    "\n",
    "from tqdm import tqdm\n",
    "styles = set()\n",
    "for data in tqdm(ds['train']):\n",
    "    styles.add(data['style'])"
   ]
  },
  {
   "cell_type": "code",
   "execution_count": 3,
   "id": "a3c60e5a-adfd-4cb1-a908-d45dbaa5fed1",
   "metadata": {},
   "outputs": [
    {
     "name": "stderr",
     "output_type": "stream",
     "text": [
      "100%|██████████| 11615/11615 [01:21<00:00, 142.50it/s]"
     ]
    },
    {
     "name": "stdout",
     "output_type": "stream",
     "text": [
      "1518\n"
     ]
    },
    {
     "name": "stderr",
     "output_type": "stream",
     "text": [
      "\n"
     ]
    }
   ],
   "source": [
    "from tqdm import tqdm\n",
    "import soundfile as sf\n",
    "import numpy as np\n",
    "import os\n",
    "\n",
    "datas = [['audio_path', 'caption', 'duration', 'script']]\n",
    "# 데이터셋 순회하면서 오디오 파일 저장\n",
    "num = 0\n",
    "for data in tqdm(ds['train']):\n",
    "    audio_data = data['audio']['array']\n",
    "    duration = data['audio']['array'].shape[0]/data['audio']['sampling_rate']\n",
    "    save_directory = '/workspace/data/expresso'\n",
    "\n",
    "    if data['speaker_id'] == 'ex01':\n",
    "        gender = 'person'\n",
    "    elif data['speaker_id'] == 'ex02':\n",
    "        gender = 'woman'\n",
    "    elif data['speaker_id'] == 'ex03':\n",
    "        gender = 'man'\n",
    "    elif data['speaker_id'] == 'ex04':\n",
    "        gender = 'woman'\n",
    "\n",
    "    text = data['text']\n",
    "    if data['style'] == 'confused':\n",
    "        caption = f'a {gender} saying in a confused tone'\n",
    "    elif data['style'] == 'happy':\n",
    "        caption = f'a {gender} happily saying'\n",
    "    elif data['style'] == 'laughing':\n",
    "        caption = f'a {gender} laughing and saying'\n",
    "    elif data['style'] == 'sad':\n",
    "        caption = f'a {gender} saying in a sad tone'\n",
    "    elif data['style'] == 'whisper':\n",
    "        num += 1\n",
    "        caption = f'a {gender} whispering'\n",
    "    elif data['style'] == 'enunciated':\n",
    "        caption = f'a {gender} \bclearly saying'\n",
    "    elif data['style'] == 'singing':\n",
    "        caption = f'a {gender} \bsinging'\n",
    "    elif data['style'] == 'essentials':\n",
    "        caption = f'a {gender} \bessentialy saying'\n",
    "    elif data['style'] == 'emphasis':\n",
    "        caption = f'a {gender} clearly saying'\n",
    "    else:\n",
    "        caption = f'a {gender} saying'\n",
    "\n",
    "    sampling_rate = data['audio']['sampling_rate']\n",
    "    \n",
    "    # Mono인 경우 Stereo로 변환\n",
    "    if audio_data.ndim == 1:\n",
    "        audio_data = np.stack([audio_data, audio_data], axis=1)\n",
    "    \n",
    "    # 저장 경로 설정\n",
    "    save_path = os.path.join(save_directory, data['audio']['path'])\n",
    "    \n",
    "    # 오디오 파일 저장\n",
    "    sf.write(save_path, audio_data, sampling_rate)\n",
    "\n",
    "    # datas.append([save_path, caption, duration, text])\n",
    "print(num)"
   ]
  },
  {
   "cell_type": "code",
   "execution_count": null,
   "id": "d1a003c7-9fe7-4790-961e-0869402eeedf",
   "metadata": {},
   "outputs": [],
   "source": []
  },
  {
   "cell_type": "code",
   "execution_count": null,
   "id": "bc9e607a-a915-476d-b0c3-ed0e9c6b9d80",
   "metadata": {},
   "outputs": [],
   "source": [
    "# huggingface-cli login\n",
    "from huggingface_hub import HfApi\n",
    "\n",
    "api = HfApi()"
   ]
  },
  {
   "cell_type": "code",
   "execution_count": null,
   "id": "5873f397-9399-4777-a2e3-0f148dc45695",
   "metadata": {},
   "outputs": [],
   "source": [
    "api.upload_file(\n",
    "    path_or_fileobj=\"/workspace/dit_audio/voicefx/weights_vsfx_1108/model_69.pth\",\n",
    "    path_in_repo=\"speech_1108_model_69.pth\",\n",
    "    repo_id=\"Daniel777/base_38\",\n",
    "    repo_type=\"model\"\n",
    ")"
   ]
  },
  {
   "cell_type": "code",
   "execution_count": null,
   "id": "9259950d-d634-4dc8-a4c9-5b02a69b6485",
   "metadata": {},
   "outputs": [],
   "source": []
  },
  {
   "cell_type": "code",
   "execution_count": 1,
   "id": "d42c39bb-b781-4547-8bd4-14d3fe8dd8e0",
   "metadata": {},
   "outputs": [],
   "source": [
    "import pandas as pd\n",
    "\n",
    "df = pd.read_csv('./datas/voice_sfx.csv')"
   ]
  },
  {
   "cell_type": "code",
   "execution_count": 14,
   "id": "163737dd-b4be-403a-9043-1134cfc97e0f",
   "metadata": {},
   "outputs": [],
   "source": [
    "df = df.dropna()\n",
    "df['caption'] = df['new_caption']\n",
    "df.to_csv('./voice_sfx.csv', index=False)"
   ]
  },
  {
   "cell_type": "code",
   "execution_count": null,
   "id": "69622b1b-3756-4e6d-9d45-f52cfa191aaa",
   "metadata": {},
   "outputs": [],
   "source": []
  }
 ],
 "metadata": {
  "kernelspec": {
   "display_name": "Python 3 (ipykernel)",
   "language": "python",
   "name": "python3"
  },
  "language_info": {
   "codemirror_mode": {
    "name": "ipython",
    "version": 3
   },
   "file_extension": ".py",
   "mimetype": "text/x-python",
   "name": "python",
   "nbconvert_exporter": "python",
   "pygments_lexer": "ipython3",
   "version": "3.10.12"
  }
 },
 "nbformat": 4,
 "nbformat_minor": 5
}
